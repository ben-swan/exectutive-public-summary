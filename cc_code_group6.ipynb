{
 "cells": [
  {
   "cell_type": "code",
   "execution_count": 2,
   "id": "390c7137",
   "metadata": {},
   "outputs": [],
   "source": [
    "import numpy as np \n",
    "import pandas as pd\n",
    "import random as rd"
   ]
  },
  {
   "cell_type": "code",
   "execution_count": 3,
   "id": "8eface37",
   "metadata": {},
   "outputs": [],
   "source": [
    "import matplotlib.pyplot as plt\n",
    "import seaborn as sns"
   ]
  },
  {
   "cell_type": "code",
   "execution_count": 4,
   "id": "dea23b0e",
   "metadata": {},
   "outputs": [
    {
     "name": "stdout",
     "output_type": "stream",
     "text": [
      "\u001b[33mWARNING: Skipping /opt/conda/lib/python3.11/site-packages/nlopt-2.7.1.dist-info due to invalid metadata entry 'name'\u001b[0m\u001b[33m\n",
      "\u001b[0m\u001b[33mWARNING: Skipping /opt/conda/lib/python3.11/site-packages/nlopt-2.7.1.dist-info due to invalid metadata entry 'name'\u001b[0m\u001b[33m\n",
      "\u001b[0mCollecting tabulate\n",
      "  Using cached tabulate-0.9.0-py3-none-any.whl (35 kB)\n",
      "\u001b[33mWARNING: Skipping /opt/conda/lib/python3.11/site-packages/nlopt-2.7.1.dist-info due to invalid metadata entry 'name'\u001b[0m\u001b[33m\n",
      "\u001b[0mInstalling collected packages: tabulate\n",
      "Successfully installed tabulate-0.9.0\n"
     ]
    }
   ],
   "source": [
    "!pip install tabulate\n",
    "from tabulate import tabulate"
   ]
  },
  {
   "cell_type": "code",
   "execution_count": 5,
   "id": "5ac80200",
   "metadata": {},
   "outputs": [
    {
     "name": "stdout",
     "output_type": "stream",
     "text": [
      "\u001b[33mWARNING: Skipping /opt/conda/lib/python3.11/site-packages/nlopt-2.7.1.dist-info due to invalid metadata entry 'name'\u001b[0m\u001b[33m\n",
      "\u001b[0m\u001b[33mWARNING: Skipping /opt/conda/lib/python3.11/site-packages/nlopt-2.7.1.dist-info due to invalid metadata entry 'name'\u001b[0m\u001b[33m\n",
      "\u001b[0mRequirement already satisfied: seaborn in /opt/conda/lib/python3.11/site-packages (0.12.2)\n",
      "Requirement already satisfied: numpy!=1.24.0,>=1.17 in /opt/conda/lib/python3.11/site-packages (from seaborn) (1.24.4)\n",
      "Requirement already satisfied: pandas>=0.25 in /opt/conda/lib/python3.11/site-packages (from seaborn) (1.5.3)\n",
      "Requirement already satisfied: matplotlib!=3.6.1,>=3.1 in /opt/conda/lib/python3.11/site-packages (from seaborn) (3.7.2)\n",
      "Requirement already satisfied: contourpy>=1.0.1 in /opt/conda/lib/python3.11/site-packages (from matplotlib!=3.6.1,>=3.1->seaborn) (1.1.0)\n",
      "Requirement already satisfied: cycler>=0.10 in /opt/conda/lib/python3.11/site-packages (from matplotlib!=3.6.1,>=3.1->seaborn) (0.11.0)\n",
      "Requirement already satisfied: fonttools>=4.22.0 in /opt/conda/lib/python3.11/site-packages (from matplotlib!=3.6.1,>=3.1->seaborn) (4.40.0)\n",
      "Requirement already satisfied: kiwisolver>=1.0.1 in /opt/conda/lib/python3.11/site-packages (from matplotlib!=3.6.1,>=3.1->seaborn) (1.4.4)\n",
      "Requirement already satisfied: packaging>=20.0 in /opt/conda/lib/python3.11/site-packages (from matplotlib!=3.6.1,>=3.1->seaborn) (23.1)\n",
      "Requirement already satisfied: pillow>=6.2.0 in /opt/conda/lib/python3.11/site-packages (from matplotlib!=3.6.1,>=3.1->seaborn) (10.0.0)\n",
      "Requirement already satisfied: pyparsing<3.1,>=2.3.1 in /opt/conda/lib/python3.11/site-packages (from matplotlib!=3.6.1,>=3.1->seaborn) (3.0.9)\n",
      "Requirement already satisfied: python-dateutil>=2.7 in /opt/conda/lib/python3.11/site-packages (from matplotlib!=3.6.1,>=3.1->seaborn) (2.8.2)\n",
      "Requirement already satisfied: pytz>=2020.1 in /opt/conda/lib/python3.11/site-packages (from pandas>=0.25->seaborn) (2023.3)\n",
      "Requirement already satisfied: six>=1.5 in /opt/conda/lib/python3.11/site-packages (from python-dateutil>=2.7->matplotlib!=3.6.1,>=3.1->seaborn) (1.16.0)\n",
      "\u001b[33mWARNING: Skipping /opt/conda/lib/python3.11/site-packages/nlopt-2.7.1.dist-info due to invalid metadata entry 'name'\u001b[0m\u001b[33m\n",
      "\u001b[0m"
     ]
    }
   ],
   "source": [
    "!pip install seaborn\n",
    "import seaborn as sns\n",
    "import matplotlib.pyplot as plt"
   ]
  },
  {
   "cell_type": "code",
   "execution_count": 6,
   "id": "d94000b5",
   "metadata": {},
   "outputs": [],
   "source": [
    "C_SA = 7432221.0 #from GIS model - cropland area in km^2 for study area\n",
    "F_SA = 7990247.4 #from GIS model - forested area in km^2 for study area\n",
    "Sum_SA = C_SA + F_SA #from GIS model, the sum of croplands and forested area for the study area\n",
    "C_FZ = 4405265.6 #from GIS model - cropland area in km^2 for feasible area\n",
    "F_FZ = 2691995.2 #from GIS model - forested area in km^2 for feasible area\n",
    "Sum_FZ = C_FZ + F_FZ #from GIS model, the sum of croplands and forested area for the feasible area\n",
    "M = 5 * 1000 #from the report\n",
    "p = 1.25 # tonnes of removed Carbon per tonne of olivine rock\n",
    "SSA = 69.18 * 30**(-1.24) # specific surface area for a particle size for 91.1 µm\n",
    "pH = 7.0 # average soil pH in Southeast Asia\n",
    "Wr = 10**(-0.48*pH - 6.90) # formula for weathering rate for acidic soils\n",
    "m = 766.55 # molar mass of olivine\n",
    "t = 3.154E+07 # conversion from seconds to years"
   ]
  },
  {
   "cell_type": "code",
   "execution_count": 7,
   "id": "15ed204d",
   "metadata": {},
   "outputs": [],
   "source": [
    "CR_C_SA = C_SA * M * p * SSA * Wr * m * t\n",
    "CRD_F_SA = F_SA * M * p * SSA * Wr * m * t\n",
    "CRD_Sum_SA = Sum_SA * M * p * SSA * Wr * m * t\n",
    "CRD_C_FZ = C_FZ * M * p * SSA * Wr * m * t\n",
    "CRD_F_FZ = F_FZ * M * p * SSA * Wr * m * t\n",
    "CRD_Sum_FZ = Sum_FZ * M * p * SSA * Wr * m * t"
   ]
  },
  {
   "cell_type": "code",
   "execution_count": 8,
   "id": "71c81af5",
   "metadata": {},
   "outputs": [
    {
     "name": "stdout",
     "output_type": "stream",
     "text": [
      "62.91453791832943\n",
      "67.63829049541626\n",
      "130.5528284137457\n",
      "37.29103986971219\n",
      "22.788024479675833\n",
      "60.079064349388034\n"
     ]
    }
   ],
   "source": [
    "print(CR_C_SA/1e9)\n",
    "print(CRD_F_SA/1e9)\n",
    "print(CRD_Sum_SA/1e9)\n",
    "print(CRD_C_FZ/1e9)\n",
    "print(CRD_F_FZ/1e9)\n",
    "print(CRD_Sum_FZ/1e9)"
   ]
  },
  {
   "cell_type": "code",
   "execution_count": 11,
   "id": "69e2f04c",
   "metadata": {},
   "outputs": [
    {
     "name": "stdout",
     "output_type": "stream",
     "text": [
      "+-----------------------------------+---------------+-----------------------------------------+\n",
      "| Region                            |   Area (km^2) |   Total CO2 Removal per Annum (GtCO2/y) |\n",
      "+===================================+===============+=========================================+\n",
      "| Study Area Cropland               |   7.43222e+06 |                                 62.9145 |\n",
      "+-----------------------------------+---------------+-----------------------------------------+\n",
      "| Study Area Forest                 |   7.99025e+06 |                                 67.6383 |\n",
      "+-----------------------------------+---------------+-----------------------------------------+\n",
      "| Study Area Cropland and Forest    |   1.54225e+07 |                                130.553  |\n",
      "+-----------------------------------+---------------+-----------------------------------------+\n",
      "| Feasible Zone Cropland            |   4.40527e+06 |                                 37.291  |\n",
      "+-----------------------------------+---------------+-----------------------------------------+\n",
      "| Feasible Zone Forest              |   2.692e+06   |                                 22.788  |\n",
      "+-----------------------------------+---------------+-----------------------------------------+\n",
      "| Feasible Zone Cropland and Forest |   7.09726e+06 |                                 60.0791 |\n",
      "+-----------------------------------+---------------+-----------------------------------------+\n"
     ]
    }
   ],
   "source": [
    "data = [['Study Area Cropland', 7432221.0, 62.91453791832943], ['Study Area Forest', 7990247.4, 67.63829049541626],\n",
    "        ['Study Area Cropland and Forest', 15422468.4, 130.5528284137457],\n",
    "        ['Feasible Zone Cropland', 4405265.6, 37.29103986971219], ['Feasible Zone Forest', 2691995.2, 22.788024479675833], ['Feasible Zone Cropland and Forest', 7097260.8, 60.079064349388034]]\n",
    "\n",
    "# Create a table\n",
    "table = tabulate(data, headers=['Region', 'Area (km^2)', 'Total CO2 Removal per Annum (GtCO2/y)'], tablefmt='grid')\n",
    "\n",
    "# Display the table\n",
    "print(table)"
   ]
  },
  {
   "cell_type": "code",
   "execution_count": null,
   "id": "0f1106cf",
   "metadata": {},
   "outputs": [],
   "source": [
    "C_SA = 7432221.0 #from GIS model - cropland area in km^2 for study area\n",
    "F_SA = 7990247.4 #from GIS model - forested area in km^2 for study area\n",
    "Sum_SA = C_SA + F_SA #from GIS model, the sum of croplands and forested area for the study area\n",
    "C_FZ = 4405265.6 #from GIS model - cropland area in km^2 for feasible area\n",
    "F_FZ = 2691995.2 #from GIS model - forested area in km^2 for feasible area\n",
    "Sum_FZ = C_FZ + F_FZ #from GIS model, the sum of croplands and forested area for the feasible area"
   ]
  },
  {
   "cell_type": "code",
   "execution_count": 191,
   "id": "ee66b1d1",
   "metadata": {},
   "outputs": [
    {
     "data": {
      "image/png": "[encoded data removed]",
      "text/plain": [
       "<Figure size 640x480 with 1 Axes>"
      ]
     },
     "metadata": {},
     "output_type": "display_data"
    }
   ],
   "source": [
    "import matplotlib.pyplot as plt # this can be used for visual comparison\n",
    "\n",
    "# data\n",
    "groups = data = ['SA Cropland', 'SA Forest', 'SA Total','FZ Cropland','FZ Forest', 'FZ Total']\n",
    "\n",
    "sizes = data = [62.91453791832943,\n",
    "67.63829049541626,\n",
    "60.079064349388034,\n",
    "37.29103986971219,\n",
    "22.788024479675833,\n",
    "60.079064349388034]\n",
    "\n",
    "# Create a bar chart\n",
    "plt.bar(groups, sizes)\n",
    "plt.xlabel('Area')\n",
    "plt.ylabel('Atmospheric Carbon Removed per Annum (GtCO2/y)')\n",
    "plt.title('Comparison of Group Sizes')\n",
    "plt.show()"
   ]
  }
 ],
 "metadata": {
  "kernelspec": {
   "display_name": "Python 3 (ipykernel)",
   "language": "python",
   "name": "python3"
  },
  "language_info": {
   "codemirror_mode": {
    "name": "ipython",
    "version": 3
   },
   "file_extension": ".py",
   "mimetype": "text/x-python",
   "name": "python",
   "nbconvert_exporter": "python",
   "pygments_lexer": "ipython3",
   "version": "3.11.4"
  }
 },
 "nbformat": 4,
 "nbformat_minor": 5
}
